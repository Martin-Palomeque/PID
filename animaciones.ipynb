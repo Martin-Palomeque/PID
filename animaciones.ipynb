{
 "cells": [
  {
   "cell_type": "code",
   "execution_count": 2,
   "metadata": {},
   "outputs": [],
   "source": [
    "import numpy as np\n",
    "import matplotlib.pyplot as plt\n",
    "import pandas as pd\n",
    "from matplotlib.animation import FuncAnimation\n",
    "from scipy.signal import find_peaks"
   ]
  },
  {
   "cell_type": "code",
   "execution_count": 5,
   "metadata": {},
   "outputs": [
    {
     "name": "stderr",
     "output_type": "stream",
     "text": [
      "MovieWriter ffmpeg unavailable; using Pillow instead.\n"
     ]
    }
   ],
   "source": [
    "# DATOS\n",
    "\n",
    "df = pd.read_csv('./Mediciones/Clase 2/posiciones-onoff2.csv',\n",
    "                 header=None, names=['Tiempo', 'Posicion', 'On-Off'])\n",
    "df = df[df['Tiempo'] <= 60]\n",
    "\n",
    "t = df['Tiempo'].values\n",
    "t -= t[0]\n",
    "h = df['Posicion'].values * 71/478\n",
    "onoff = df['On-Off'].values\n",
    "\n",
    "# FIGURA\n",
    "\n",
    "fig, ax = plt.subplots(figsize=(10,5))\n",
    "plt.close(fig)\n",
    "\n",
    "ax.set_xlabel('Tiempo [s]')\n",
    "ax.set_ylabel('Altura [cm]')\n",
    "ax.set_xlim((min(t), max(t)))\n",
    "ax.set_ylim((min(h), max(h)))\n",
    "ax.axhline(200*71/478, c='k', ls='--')\n",
    "\n",
    "# ANIMACION\n",
    "\n",
    "peaks = find_peaks(np.abs(np.diff(onoff)), threshold=0.5)[0]\n",
    "n_peak = 0\n",
    "frame_ant = 0\n",
    "\n",
    "linea, = ax.plot([], [], c='mediumspringgreen')\n",
    "\n",
    "def update(frame):\n",
    "    global n_peak, frame_ant\n",
    "    if frame in peaks:\n",
    "        if n_peak == 0:\n",
    "            ax.plot(t[:frame], h[:frame], 'mediumspringgreen')\n",
    "            linea.set_color('tomato')\n",
    "        elif n_peak % 2 == 0:\n",
    "            ax.plot(t[peaks[n_peak-1]:frame], h[peaks[n_peak-1]:frame], 'mediumspringgreen')\n",
    "            linea.set_color('tomato')\n",
    "        else:\n",
    "            ax.plot(t[peaks[n_peak-1]:frame], h[peaks[n_peak-1]:frame], 'tomato')\n",
    "            linea.set_color('mediumspringgreen')\n",
    "        n_peak += 1\n",
    "        frame_ant = frame\n",
    "    linea.set_data(t[frame_ant:frame], h[frame_ant:frame])\n",
    "\n",
    "anim = FuncAnimation(fig, update, frames=len(t), interval=int(10*1000/len(t)))\n",
    "anim.save('./Animaciones/On-Off.gif')"
   ]
  }
 ],
 "metadata": {
  "kernelspec": {
   "display_name": "Python 3",
   "language": "python",
   "name": "python3"
  },
  "language_info": {
   "codemirror_mode": {
    "name": "ipython",
    "version": 3
   },
   "file_extension": ".py",
   "mimetype": "text/x-python",
   "name": "python",
   "nbconvert_exporter": "python",
   "pygments_lexer": "ipython3",
   "version": "3.11.2"
  },
  "orig_nbformat": 4
 },
 "nbformat": 4,
 "nbformat_minor": 2
}
